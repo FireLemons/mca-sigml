{
 "cells": [
  {
   "cell_type": "markdown",
   "metadata": {},
   "source": [
    "# SIG - Python Scientific Computing - 10/3/2017\n",
    "\n",
    "## Eigenanalysis\n",
    "\n",
    "* Pincipal component analysis (notebook walk-through)\n",
    "* PCA whiteboard\n",
    "    * Principle of Orthogonality\n",
    "    * Eigen equation from Lagrange multiplier\n",
    "    * Spectral theorem\n",
    "* Processing (notebook walk-through)\n",
    "\n",
    "Notebooks in this session:\n",
    "\n",
    "* [PCA](PCA.ipynb) + (whiteboard)\n",
    "* [Processing](Processing.ipynb)\n"
   ]
  },
  {
   "cell_type": "code",
   "execution_count": null,
   "metadata": {},
   "outputs": [],
   "source": [
    "%matplotlib inline\n",
    "import matplotlib.pyplot as plt\n",
    "\n",
    "import os, sys\n",
    "import numpy as np\n",
    "from sklearn.preprocessing import scale"
   ]
  },
  {
   "cell_type": "code",
   "execution_count": null,
   "metadata": {},
   "outputs": [],
   "source": []
  },
  {
   "cell_type": "code",
   "execution_count": null,
   "metadata": {},
   "outputs": [],
   "source": []
  },
  {
   "cell_type": "code",
   "execution_count": null,
   "metadata": {},
   "outputs": [],
   "source": []
  }
 ],
 "metadata": {
  "kernelspec": {
   "display_name": "Python 3",
   "language": "python",
   "name": "python3"
  },
  "language_info": {
   "codemirror_mode": {
    "name": "ipython",
    "version": 3
   },
   "file_extension": ".py",
   "mimetype": "text/x-python",
   "name": "python",
   "nbconvert_exporter": "python",
   "pygments_lexer": "ipython3",
   "version": "3.4.3"
  }
 },
 "nbformat": 4,
 "nbformat_minor": 2
}
