{
 "cells": [
  {
   "cell_type": "markdown",
   "metadata": {},
   "source": [
    "# SIG - Python Scientific Computing - 9/19/2017\n",
    "\n",
    "## Vectorization & Matrix Analysis\n",
    "\n",
    "(Whiteboard Session)\n",
    "\n",
    "* Vector space\n",
    "* Inner product independent of coordinates\n",
    "* Different perspectives of matrix-vector product\n",
    "* Amdahl's law\n",
    "* Vectorization & massive parallelism\n",
    "* Mandelbrot set example\n",
    "* GPU for data science\n",
    "\n",
    "Info on python `list()` [source](\n",
    "https://github.com/python/cpython/blob/1a5856bf9295fa73995898d576e0bedf016aee1f/Include/listobject.h)\n",
    "\n",
    "Link to the Mandelbrot set example, [click here](https://github.com/aleozlx/mandelbrot-pycuda).\n"
   ]
  }
 ],
 "metadata": {
  "kernelspec": {
   "display_name": "Python 3",
   "language": "python",
   "name": "python3"
  },
  "language_info": {
   "codemirror_mode": {
    "name": "ipython",
    "version": 3
   },
   "file_extension": ".py",
   "mimetype": "text/x-python",
   "name": "python",
   "nbconvert_exporter": "python",
   "pygments_lexer": "ipython3",
   "version": "3.4.3"
  }
 },
 "nbformat": 4,
 "nbformat_minor": 2
}
